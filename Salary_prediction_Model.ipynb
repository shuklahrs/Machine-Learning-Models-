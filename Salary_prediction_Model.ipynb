{
  "nbformat": 4,
  "nbformat_minor": 0,
  "metadata": {
    "colab": {
      "name": "Salary_prediction_Model.ipynb",
      "provenance": [],
      "authorship_tag": "ABX9TyPYMwuSSbHOIRP1SDAvWUsX",
      "include_colab_link": true
    },
    "kernelspec": {
      "name": "python3",
      "display_name": "Python 3"
    },
    "language_info": {
      "name": "python"
    }
  },
  "cells": [
    {
      "cell_type": "markdown",
      "metadata": {
        "id": "view-in-github",
        "colab_type": "text"
      },
      "source": [
        "<a href=\"https://colab.research.google.com/github/shuklahrs/Machine-Learning-Models-/blob/Salary-Prediction-Model/Salary_prediction_Model.ipynb\" target=\"_parent\"><img src=\"https://colab.research.google.com/assets/colab-badge.svg\" alt=\"Open In Colab\"/></a>"
      ]
    },
    {
      "cell_type": "markdown",
      "metadata": {
        "id": "MdLwT1Sn2PBr"
      },
      "source": [
        "#**SALARY PREDICTION MODEL (on work experience)**"
      ]
    },
    {
      "cell_type": "markdown",
      "metadata": {
        "id": "KIwpJ5bj2PG_"
      },
      "source": [
        "#Importing Libraries"
      ]
    },
    {
      "cell_type": "code",
      "metadata": {
        "id": "qJIzaF805kz-"
      },
      "source": [
        "import numpy as np\n",
        "import matplotlib.pyplot as plt\n",
        "import pandas as pd"
      ],
      "execution_count": 1,
      "outputs": []
    },
    {
      "cell_type": "markdown",
      "metadata": {
        "id": "F_no5iWe4Xa9"
      },
      "source": [
        "#Importing Dataset"
      ]
    },
    {
      "cell_type": "code",
      "metadata": {
        "id": "AaaXCr5l5suP"
      },
      "source": [
        "dataset = pd.read_csv('Salary.csv')\n",
        "x = dataset.iloc[ : , : -1].values\n",
        "y = dataset.iloc[ : , -1].values"
      ],
      "execution_count": 2,
      "outputs": []
    },
    {
      "cell_type": "code",
      "metadata": {
        "colab": {
          "base_uri": "https://localhost:8080/"
        },
        "id": "8ouDYlz96EDU",
        "outputId": "c3941f8a-0f10-4636-d728-a06399e9d499"
      },
      "source": [
        "print(x)"
      ],
      "execution_count": 3,
      "outputs": [
        {
          "output_type": "stream",
          "text": [
            "[[ 1.1]\n",
            " [ 1.3]\n",
            " [ 1.5]\n",
            " [ 2. ]\n",
            " [ 2.2]\n",
            " [ 2.9]\n",
            " [ 3. ]\n",
            " [ 3.2]\n",
            " [ 3.2]\n",
            " [ 3.7]\n",
            " [ 3.9]\n",
            " [ 4. ]\n",
            " [ 4. ]\n",
            " [ 4.1]\n",
            " [ 4.5]\n",
            " [ 4.9]\n",
            " [ 5.1]\n",
            " [ 5.3]\n",
            " [ 5.9]\n",
            " [ 6. ]\n",
            " [ 6.8]\n",
            " [ 7.1]\n",
            " [ 7.9]\n",
            " [ 8.2]\n",
            " [ 8.7]\n",
            " [ 9. ]\n",
            " [ 9.5]\n",
            " [ 9.6]\n",
            " [10.3]\n",
            " [10.5]\n",
            " [11.2]\n",
            " [11.5]\n",
            " [12.3]\n",
            " [12.9]\n",
            " [13.5]]\n"
          ],
          "name": "stdout"
        }
      ]
    },
    {
      "cell_type": "code",
      "metadata": {
        "colab": {
          "base_uri": "https://localhost:8080/"
        },
        "id": "uzwjIILW6FhY",
        "outputId": "0099a40b-dbe3-46da-911d-344546ef15ce"
      },
      "source": [
        "print(y)"
      ],
      "execution_count": 4,
      "outputs": [
        {
          "output_type": "stream",
          "text": [
            "[ 39343  46205  37731  43525  39891  56642  60150  54445  64445  57189\n",
            "  63218  55794  56957  57081  61111  67938  66029  83088  81363  93940\n",
            "  91738  98273 101302 113812 109431 105582 116969 112635 122391 121872\n",
            " 127345 126756 128765 135675 139465]\n"
          ],
          "name": "stdout"
        }
      ]
    },
    {
      "cell_type": "markdown",
      "metadata": {
        "id": "IbDXJuIh4bU_"
      },
      "source": [
        "#Splitting the datset into Training Set and Test Set"
      ]
    },
    {
      "cell_type": "code",
      "metadata": {
        "id": "qb60Q7m66UBn"
      },
      "source": [
        "from sklearn.model_selection import train_test_split\n",
        "x_train, x_test, y_train, y_test = train_test_split(x, y, test_size = 0.1, random_state = 0)"
      ],
      "execution_count": 5,
      "outputs": []
    },
    {
      "cell_type": "markdown",
      "metadata": {
        "id": "CpZnegEL4kPR"
      },
      "source": [
        "#Training the Linear Regression Model on the Training Set"
      ]
    },
    {
      "cell_type": "code",
      "metadata": {
        "colab": {
          "base_uri": "https://localhost:8080/"
        },
        "id": "q8fHt9w-6roj",
        "outputId": "e884f11f-fecb-44f2-d7f2-7d4ae8d262a3"
      },
      "source": [
        "from sklearn.linear_model import LinearRegression\n",
        "regressor = LinearRegression()\n",
        "regressor.fit(x_train, y_train)"
      ],
      "execution_count": 6,
      "outputs": [
        {
          "output_type": "execute_result",
          "data": {
            "text/plain": [
              "LinearRegression(copy_X=True, fit_intercept=True, n_jobs=None, normalize=False)"
            ]
          },
          "metadata": {
            "tags": []
          },
          "execution_count": 6
        }
      ]
    },
    {
      "cell_type": "markdown",
      "metadata": {
        "id": "F5P96Wkx4uU9"
      },
      "source": [
        "#Predicting the Test Set Results"
      ]
    },
    {
      "cell_type": "code",
      "metadata": {
        "id": "mHOCCL4P7X9x"
      },
      "source": [
        "y_pred = regressor.predict(x_test)"
      ],
      "execution_count": 7,
      "outputs": []
    },
    {
      "cell_type": "code",
      "metadata": {
        "colab": {
          "base_uri": "https://localhost:8080/"
        },
        "id": "SRN-1x0R7jap",
        "outputId": "30682907-5b97-4304-8bbc-f30fa71922be"
      },
      "source": [
        "print(y_pred)"
      ],
      "execution_count": 8,
      "outputs": [
        {
          "output_type": "stream",
          "text": [
            "[120176.63498819  88147.40767272  73431.27620345 118445.32540357]\n"
          ],
          "name": "stdout"
        }
      ]
    },
    {
      "cell_type": "markdown",
      "metadata": {
        "id": "h-ey2U-64yZv"
      },
      "source": [
        "#Visualising the Training Set Results"
      ]
    },
    {
      "cell_type": "code",
      "metadata": {
        "colab": {
          "base_uri": "https://localhost:8080/",
          "height": 295
        },
        "id": "r0nI6HrO7tIx",
        "outputId": "673fb5d0-445c-419d-80c1-6fe89d1c04e5"
      },
      "source": [
        "plt.scatter(x_train, y_train, color = 'red')\n",
        "plt.plot(x_train, regressor.predict(x_train), color = 'green')\n",
        "plt.title('**SALARY Vs EXPERIENCE (Training Set)**')\n",
        "plt.xlabel('YEARS OF EXPERIENCE')\n",
        "plt.ylabel('SALARY')\n",
        "plt.show()"
      ],
      "execution_count": 9,
      "outputs": [
        {
          "output_type": "display_data",
          "data": {
            "image/png": "[encoded data removed]",
            "text/plain": [
              "<Figure size 432x288 with 1 Axes>"
            ]
          },
          "metadata": {
            "tags": [],
            "needs_background": "light"
          }
        }
      ]
    },
    {
      "cell_type": "markdown",
      "metadata": {
        "id": "h2z5cnbV43jA"
      },
      "source": [
        "#Visualising the Test Set Results"
      ]
    },
    {
      "cell_type": "code",
      "metadata": {
        "colab": {
          "base_uri": "https://localhost:8080/",
          "height": 295
        },
        "id": "BvGa047r9Ah5",
        "outputId": "7bc4ab00-3419-4302-cf7d-a4ea2ea6cea8"
      },
      "source": [
        "plt.scatter(x_test, y_test, color = 'red')\n",
        "plt.plot(x_train, regressor.predict(x_train), color = 'green')\n",
        "plt.title('**SALARY Vs EXPERIENCE (Test Set)**')\n",
        "plt.xlabel('YEARS OF EXPERIENCE')\n",
        "plt.ylabel('SALARY')\n",
        "plt.show()"
      ],
      "execution_count": 10,
      "outputs": [
        {
          "output_type": "display_data",
          "data": {
            "image/png": "[encoded data removed]",
            "text/plain": [
              "<Figure size 432x288 with 1 Axes>"
            ]
          },
          "metadata": {
            "tags": [],
            "needs_background": "light"
          }
        }
      ]
    },
    {
      "cell_type": "markdown",
      "metadata": {
        "id": "BG5ZaPbh472u"
      },
      "source": [
        "#Prediction of Salary of an Employee with 7 years of Experience"
      ]
    },
    {
      "cell_type": "code",
      "metadata": {
        "colab": {
          "base_uri": "https://localhost:8080/"
        },
        "id": "8hb9MSh597DD",
        "outputId": "a3b83397-55b1-4ea9-8d24-b501c590997c"
      },
      "source": [
        "pred = regressor.predict([[7]])\n",
        "print(pred)"
      ],
      "execution_count": 14,
      "outputs": [
        {
          "output_type": "stream",
          "text": [
            "[89878.71725734]\n"
          ],
          "name": "stdout"
        }
      ]
    },
    {
      "cell_type": "markdown",
      "metadata": {
        "id": "qkPvV1UP5N_q"
      },
      "source": [
        "#Final linear regression equation with the values of coefficients"
      ]
    },
    {
      "cell_type": "code",
      "metadata": {
        "colab": {
          "base_uri": "https://localhost:8080/"
        },
        "id": "cjj23Ebf2NVo",
        "outputId": "5bf000d9-7bc4-474f-bf9c-4b9c4a7174fa"
      },
      "source": [
        "print(regressor.coef_)\n",
        "print(regressor.intercept_)"
      ],
      "execution_count": 16,
      "outputs": [
        {
          "output_type": "stream",
          "text": [
            "[8656.5479231]\n",
            "29282.88179563854\n"
          ],
          "name": "stdout"
        }
      ]
    }
  ]
}