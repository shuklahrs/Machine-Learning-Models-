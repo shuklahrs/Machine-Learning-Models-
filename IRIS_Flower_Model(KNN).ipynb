{
  "nbformat": 4,
  "nbformat_minor": 0,
  "metadata": {
    "colab": {
      "name": "IRIS_Flower_Model(KNN).ipynb",
      "provenance": [],
      "authorship_tag": "ABX9TyML5iEtp/TL4nRJRiJ35bS6",
      "include_colab_link": true
    },
    "kernelspec": {
      "name": "python3",
      "display_name": "Python 3"
    },
    "language_info": {
      "name": "python"
    }
  },
  "cells": [
    {
      "cell_type": "markdown",
      "metadata": {
        "id": "view-in-github",
        "colab_type": "text"
      },
      "source": [
        "<a href=\"https://colab.research.google.com/github/shuklahrs/Machine-Learning-Models-/blob/IRIS-Flower-Detection-Model/IRIS_Flower_Model(KNN).ipynb\" target=\"_parent\"><img src=\"https://colab.research.google.com/assets/colab-badge.svg\" alt=\"Open In Colab\"/></a>"
      ]
    },
    {
      "cell_type": "markdown",
      "metadata": {
        "id": "vyQKh2qixqen"
      },
      "source": [
        "#**IRIS FLOWER DETECTION**"
      ]
    },
    {
      "cell_type": "markdown",
      "metadata": {
        "id": "RLHzco72x8oj"
      },
      "source": [
        "#Importing Libraries"
      ]
    },
    {
      "cell_type": "code",
      "metadata": {
        "id": "9q4PxLZRzOXK"
      },
      "source": [
        "import numpy as np\n",
        "import matplotlib.pyplot as plt\n",
        "import pandas as pd"
      ],
      "execution_count": 14,
      "outputs": []
    },
    {
      "cell_type": "markdown",
      "metadata": {
        "id": "YMhnBaBKyAId"
      },
      "source": [
        "#Importing Dataset"
      ]
    },
    {
      "cell_type": "code",
      "metadata": {
        "id": "ald6nghXzjMc"
      },
      "source": [
        "dataset = pd.read_csv('IRIS.csv')\n",
        "x = dataset.iloc[:, : -1].values\n",
        "y = dataset.iloc[:, -1].values"
      ],
      "execution_count": 15,
      "outputs": []
    },
    {
      "cell_type": "code",
      "metadata": {
        "colab": {
          "base_uri": "https://localhost:8080/"
        },
        "id": "9zl7zPPlz9AE",
        "outputId": "11af0c99-697f-4f8e-9b92-f12bd86a548e"
      },
      "source": [
        "print(x)"
      ],
      "execution_count": 16,
      "outputs": [
        {
          "output_type": "stream",
          "text": [
            "[[5.1 3.5 1.4 0.2]\n",
            " [4.9 3.  1.4 0.2]\n",
            " [4.7 3.2 1.3 0.2]\n",
            " [4.6 3.1 1.5 0.2]\n",
            " [5.  3.6 1.4 0.2]\n",
            " [5.4 3.9 1.7 0.4]\n",
            " [4.6 3.4 1.4 0.3]\n",
            " [5.  3.4 1.5 0.2]\n",
            " [4.4 2.9 1.4 0.2]\n",
            " [4.9 3.1 1.5 0.1]\n",
            " [5.4 3.7 1.5 0.2]\n",
            " [4.8 3.4 1.6 0.2]\n",
            " [4.8 3.  1.4 0.1]\n",
            " [4.3 3.  1.1 0.1]\n",
            " [5.8 4.  1.2 0.2]\n",
            " [5.7 4.4 1.5 0.4]\n",
            " [5.4 3.9 1.3 0.4]\n",
            " [5.1 3.5 1.4 0.3]\n",
            " [5.7 3.8 1.7 0.3]\n",
            " [5.1 3.8 1.5 0.3]\n",
            " [5.4 3.4 1.7 0.2]\n",
            " [5.1 3.7 1.5 0.4]\n",
            " [4.6 3.6 1.  0.2]\n",
            " [5.1 3.3 1.7 0.5]\n",
            " [4.8 3.4 1.9 0.2]\n",
            " [5.  3.  1.6 0.2]\n",
            " [5.  3.4 1.6 0.4]\n",
            " [5.2 3.5 1.5 0.2]\n",
            " [5.2 3.4 1.4 0.2]\n",
            " [4.7 3.2 1.6 0.2]\n",
            " [4.8 3.1 1.6 0.2]\n",
            " [5.4 3.4 1.5 0.4]\n",
            " [5.2 4.1 1.5 0.1]\n",
            " [5.5 4.2 1.4 0.2]\n",
            " [4.9 3.1 1.5 0.1]\n",
            " [5.  3.2 1.2 0.2]\n",
            " [5.5 3.5 1.3 0.2]\n",
            " [4.9 3.1 1.5 0.1]\n",
            " [4.4 3.  1.3 0.2]\n",
            " [5.1 3.4 1.5 0.2]\n",
            " [5.  3.5 1.3 0.3]\n",
            " [4.5 2.3 1.3 0.3]\n",
            " [4.4 3.2 1.3 0.2]\n",
            " [5.  3.5 1.6 0.6]\n",
            " [5.1 3.8 1.9 0.4]\n",
            " [4.8 3.  1.4 0.3]\n",
            " [5.1 3.8 1.6 0.2]\n",
            " [4.6 3.2 1.4 0.2]\n",
            " [5.3 3.7 1.5 0.2]\n",
            " [5.  3.3 1.4 0.2]\n",
            " [7.  3.2 4.7 1.4]\n",
            " [6.4 3.2 4.5 1.5]\n",
            " [6.9 3.1 4.9 1.5]\n",
            " [5.5 2.3 4.  1.3]\n",
            " [6.5 2.8 4.6 1.5]\n",
            " [5.7 2.8 4.5 1.3]\n",
            " [6.3 3.3 4.7 1.6]\n",
            " [4.9 2.4 3.3 1. ]\n",
            " [6.6 2.9 4.6 1.3]\n",
            " [5.2 2.7 3.9 1.4]\n",
            " [5.  2.  3.5 1. ]\n",
            " [5.9 3.  4.2 1.5]\n",
            " [6.  2.2 4.  1. ]\n",
            " [6.1 2.9 4.7 1.4]\n",
            " [5.6 2.9 3.6 1.3]\n",
            " [6.7 3.1 4.4 1.4]\n",
            " [5.6 3.  4.5 1.5]\n",
            " [5.8 2.7 4.1 1. ]\n",
            " [6.2 2.2 4.5 1.5]\n",
            " [5.6 2.5 3.9 1.1]\n",
            " [5.9 3.2 4.8 1.8]\n",
            " [6.1 2.8 4.  1.3]\n",
            " [6.3 2.5 4.9 1.5]\n",
            " [6.1 2.8 4.7 1.2]\n",
            " [6.4 2.9 4.3 1.3]\n",
            " [6.6 3.  4.4 1.4]\n",
            " [6.8 2.8 4.8 1.4]\n",
            " [6.7 3.  5.  1.7]\n",
            " [6.  2.9 4.5 1.5]\n",
            " [5.7 2.6 3.5 1. ]\n",
            " [5.5 2.4 3.8 1.1]\n",
            " [5.5 2.4 3.7 1. ]\n",
            " [5.8 2.7 3.9 1.2]\n",
            " [6.  2.7 5.1 1.6]\n",
            " [5.4 3.  4.5 1.5]\n",
            " [6.  3.4 4.5 1.6]\n",
            " [6.7 3.1 4.7 1.5]\n",
            " [6.3 2.3 4.4 1.3]\n",
            " [5.6 3.  4.1 1.3]\n",
            " [5.5 2.5 4.  1.3]\n",
            " [5.5 2.6 4.4 1.2]\n",
            " [6.1 3.  4.6 1.4]\n",
            " [5.8 2.6 4.  1.2]\n",
            " [5.  2.3 3.3 1. ]\n",
            " [5.6 2.7 4.2 1.3]\n",
            " [5.7 3.  4.2 1.2]\n",
            " [5.7 2.9 4.2 1.3]\n",
            " [6.2 2.9 4.3 1.3]\n",
            " [5.1 2.5 3.  1.1]\n",
            " [5.7 2.8 4.1 1.3]\n",
            " [6.3 3.3 6.  2.5]\n",
            " [5.8 2.7 5.1 1.9]\n",
            " [7.1 3.  5.9 2.1]\n",
            " [6.3 2.9 5.6 1.8]\n",
            " [6.5 3.  5.8 2.2]\n",
            " [7.6 3.  6.6 2.1]\n",
            " [4.9 2.5 4.5 1.7]\n",
            " [7.3 2.9 6.3 1.8]\n",
            " [6.7 2.5 5.8 1.8]\n",
            " [7.2 3.6 6.1 2.5]\n",
            " [6.5 3.2 5.1 2. ]\n",
            " [6.4 2.7 5.3 1.9]\n",
            " [6.8 3.  5.5 2.1]\n",
            " [5.7 2.5 5.  2. ]\n",
            " [5.8 2.8 5.1 2.4]\n",
            " [6.4 3.2 5.3 2.3]\n",
            " [6.5 3.  5.5 1.8]\n",
            " [7.7 3.8 6.7 2.2]\n",
            " [7.7 2.6 6.9 2.3]\n",
            " [6.  2.2 5.  1.5]\n",
            " [6.9 3.2 5.7 2.3]\n",
            " [5.6 2.8 4.9 2. ]\n",
            " [7.7 2.8 6.7 2. ]\n",
            " [6.3 2.7 4.9 1.8]\n",
            " [6.7 3.3 5.7 2.1]\n",
            " [7.2 3.2 6.  1.8]\n",
            " [6.2 2.8 4.8 1.8]\n",
            " [6.1 3.  4.9 1.8]\n",
            " [6.4 2.8 5.6 2.1]\n",
            " [7.2 3.  5.8 1.6]\n",
            " [7.4 2.8 6.1 1.9]\n",
            " [7.9 3.8 6.4 2. ]\n",
            " [6.4 2.8 5.6 2.2]\n",
            " [6.3 2.8 5.1 1.5]\n",
            " [6.1 2.6 5.6 1.4]\n",
            " [7.7 3.  6.1 2.3]\n",
            " [6.3 3.4 5.6 2.4]\n",
            " [6.4 3.1 5.5 1.8]\n",
            " [6.  3.  4.8 1.8]\n",
            " [6.9 3.1 5.4 2.1]\n",
            " [6.7 3.1 5.6 2.4]\n",
            " [6.9 3.1 5.1 2.3]\n",
            " [5.8 2.7 5.1 1.9]\n",
            " [6.8 3.2 5.9 2.3]\n",
            " [6.7 3.3 5.7 2.5]\n",
            " [6.7 3.  5.2 2.3]\n",
            " [6.3 2.5 5.  1.9]\n",
            " [6.5 3.  5.2 2. ]\n",
            " [6.2 3.4 5.4 2.3]\n",
            " [5.9 3.  5.1 1.8]]\n"
          ],
          "name": "stdout"
        }
      ]
    },
    {
      "cell_type": "code",
      "metadata": {
        "colab": {
          "base_uri": "https://localhost:8080/"
        },
        "id": "OBthLZ_lz-QU",
        "outputId": "951f981c-53ea-4f54-b249-5f92134db3e2"
      },
      "source": [
        "print(y)"
      ],
      "execution_count": 17,
      "outputs": [
        {
          "output_type": "stream",
          "text": [
            "['Iris-setosa' 'Iris-setosa' 'Iris-setosa' 'Iris-setosa' 'Iris-setosa'\n",
            " 'Iris-setosa' 'Iris-setosa' 'Iris-setosa' 'Iris-setosa' 'Iris-setosa'\n",
            " 'Iris-setosa' 'Iris-setosa' 'Iris-setosa' 'Iris-setosa' 'Iris-setosa'\n",
            " 'Iris-setosa' 'Iris-setosa' 'Iris-setosa' 'Iris-setosa' 'Iris-setosa'\n",
            " 'Iris-setosa' 'Iris-setosa' 'Iris-setosa' 'Iris-setosa' 'Iris-setosa'\n",
            " 'Iris-setosa' 'Iris-setosa' 'Iris-setosa' 'Iris-setosa' 'Iris-setosa'\n",
            " 'Iris-setosa' 'Iris-setosa' 'Iris-setosa' 'Iris-setosa' 'Iris-setosa'\n",
            " 'Iris-setosa' 'Iris-setosa' 'Iris-setosa' 'Iris-setosa' 'Iris-setosa'\n",
            " 'Iris-setosa' 'Iris-setosa' 'Iris-setosa' 'Iris-setosa' 'Iris-setosa'\n",
            " 'Iris-setosa' 'Iris-setosa' 'Iris-setosa' 'Iris-setosa' 'Iris-setosa'\n",
            " 'Iris-versicolor' 'Iris-versicolor' 'Iris-versicolor' 'Iris-versicolor'\n",
            " 'Iris-versicolor' 'Iris-versicolor' 'Iris-versicolor' 'Iris-versicolor'\n",
            " 'Iris-versicolor' 'Iris-versicolor' 'Iris-versicolor' 'Iris-versicolor'\n",
            " 'Iris-versicolor' 'Iris-versicolor' 'Iris-versicolor' 'Iris-versicolor'\n",
            " 'Iris-versicolor' 'Iris-versicolor' 'Iris-versicolor' 'Iris-versicolor'\n",
            " 'Iris-versicolor' 'Iris-versicolor' 'Iris-versicolor' 'Iris-versicolor'\n",
            " 'Iris-versicolor' 'Iris-versicolor' 'Iris-versicolor' 'Iris-versicolor'\n",
            " 'Iris-versicolor' 'Iris-versicolor' 'Iris-versicolor' 'Iris-versicolor'\n",
            " 'Iris-versicolor' 'Iris-versicolor' 'Iris-versicolor' 'Iris-versicolor'\n",
            " 'Iris-versicolor' 'Iris-versicolor' 'Iris-versicolor' 'Iris-versicolor'\n",
            " 'Iris-versicolor' 'Iris-versicolor' 'Iris-versicolor' 'Iris-versicolor'\n",
            " 'Iris-versicolor' 'Iris-versicolor' 'Iris-versicolor' 'Iris-versicolor'\n",
            " 'Iris-versicolor' 'Iris-versicolor' 'Iris-virginica' 'Iris-virginica'\n",
            " 'Iris-virginica' 'Iris-virginica' 'Iris-virginica' 'Iris-virginica'\n",
            " 'Iris-virginica' 'Iris-virginica' 'Iris-virginica' 'Iris-virginica'\n",
            " 'Iris-virginica' 'Iris-virginica' 'Iris-virginica' 'Iris-virginica'\n",
            " 'Iris-virginica' 'Iris-virginica' 'Iris-virginica' 'Iris-virginica'\n",
            " 'Iris-virginica' 'Iris-virginica' 'Iris-virginica' 'Iris-virginica'\n",
            " 'Iris-virginica' 'Iris-virginica' 'Iris-virginica' 'Iris-virginica'\n",
            " 'Iris-virginica' 'Iris-virginica' 'Iris-virginica' 'Iris-virginica'\n",
            " 'Iris-virginica' 'Iris-virginica' 'Iris-virginica' 'Iris-virginica'\n",
            " 'Iris-virginica' 'Iris-virginica' 'Iris-virginica' 'Iris-virginica'\n",
            " 'Iris-virginica' 'Iris-virginica' 'Iris-virginica' 'Iris-virginica'\n",
            " 'Iris-virginica' 'Iris-virginica' 'Iris-virginica' 'Iris-virginica'\n",
            " 'Iris-virginica' 'Iris-virginica' 'Iris-virginica' 'Iris-virginica']\n"
          ],
          "name": "stdout"
        }
      ]
    },
    {
      "cell_type": "markdown",
      "metadata": {
        "id": "AFbKQ7-qyCO5"
      },
      "source": [
        "#Splitting the Dataset into Training Set and Test set"
      ]
    },
    {
      "cell_type": "code",
      "metadata": {
        "id": "ZCvUqj5Y0B_a"
      },
      "source": [
        "from sklearn.model_selection import train_test_split\n",
        "x_train, x_test, y_train, y_test = train_test_split(x, y, test_size = 0.2, random_state = 0)"
      ],
      "execution_count": 18,
      "outputs": []
    },
    {
      "cell_type": "markdown",
      "metadata": {
        "id": "hgQBKStDyL1j"
      },
      "source": [
        "#Feature Scaling"
      ]
    },
    {
      "cell_type": "code",
      "metadata": {
        "id": "tGilGHTM1Rm_"
      },
      "source": [
        "from sklearn.preprocessing import StandardScaler\n",
        "sc = StandardScaler()\n",
        "x_train = sc.fit_transform(x_train)\n",
        "x_test = sc.fit_transform(x_test)"
      ],
      "execution_count": 19,
      "outputs": []
    },
    {
      "cell_type": "code",
      "metadata": {
        "colab": {
          "base_uri": "https://localhost:8080/"
        },
        "id": "D0vgszbf151N",
        "outputId": "b09f2adb-6b7b-47ff-fffe-d8a99c378261"
      },
      "source": [
        "print(x_train)"
      ],
      "execution_count": 20,
      "outputs": [
        {
          "output_type": "stream",
          "text": [
            "[[ 0.61303014  0.10850105  0.94751783  0.73603967]\n",
            " [-0.56776627 -0.12400121  0.38491447  0.34808318]\n",
            " [-0.80392556  1.03851009 -1.30289562 -1.3330616 ]\n",
            " [ 0.25879121 -0.12400121  0.60995581  0.73603967]\n",
            " [ 0.61303014 -0.58900572  1.00377816  1.25331499]\n",
            " [-0.80392556 -0.82150798  0.04735245  0.21876435]\n",
            " [-0.21352735  1.73601687 -1.19037495 -1.20374277]\n",
            " [ 0.14071157 -0.82150798  0.72247648  0.47740201]\n",
            " [ 0.02263193 -0.12400121  0.21613346  0.34808318]\n",
            " [-0.09544771 -1.05401024  0.10361279 -0.03987331]\n",
            " [ 1.0853487  -0.12400121  0.94751783  1.12399616]\n",
            " [-1.39432376  0.34100331 -1.41541629 -1.3330616 ]\n",
            " [ 1.20342834  0.10850105  0.72247648  1.38263382]\n",
            " [-1.04008484  1.03851009 -1.24663528 -0.81578628]\n",
            " [-0.56776627  1.50351461 -1.30289562 -1.3330616 ]\n",
            " [-1.04008484 -2.4490238  -0.1776889  -0.29851096]\n",
            " [ 0.73110978 -0.12400121  0.94751783  0.73603967]\n",
            " [ 0.96726906  0.57350557  1.0600385   1.64127148]\n",
            " [ 0.14071157 -1.98401928  0.66621615  0.34808318]\n",
            " [ 0.96726906 -1.2865125   1.11629884  0.73603967]\n",
            " [-0.33160699 -1.2865125   0.04735245 -0.16919214]\n",
            " [ 2.14806547 -0.12400121  1.28507985  1.38263382]\n",
            " [ 0.49495049  0.57350557  0.49743514  0.47740201]\n",
            " [-0.44968663 -1.51901476 -0.00890789 -0.16919214]\n",
            " [ 0.49495049 -0.82150798  0.60995581  0.73603967]\n",
            " [ 0.49495049 -0.58900572  0.72247648  0.34808318]\n",
            " [-1.15816448 -1.2865125   0.38491447  0.60672084]\n",
            " [ 0.49495049 -1.2865125   0.66621615  0.8653585 ]\n",
            " [ 1.32150798  0.34100331  0.49743514  0.21876435]\n",
            " [ 0.73110978 -0.12400121  0.77873682  0.99467733]\n",
            " [ 0.14071157  0.80600783  0.38491447  0.47740201]\n",
            " [-1.27624412  0.10850105 -1.24663528 -1.3330616 ]\n",
            " [-0.09544771 -0.82150798  0.72247648  0.8653585 ]\n",
            " [-0.33160699 -0.82150798  0.21613346  0.08944552]\n",
            " [-0.33160699 -0.35650346 -0.12142856  0.08944552]\n",
            " [-0.44968663 -1.2865125   0.10361279  0.08944552]\n",
            " [ 0.25879121 -0.12400121  0.4411748   0.21876435]\n",
            " [ 1.55766726  0.34100331  1.22881951  0.73603967]\n",
            " [-0.68584591  1.50351461 -1.30289562 -1.3330616 ]\n",
            " [-1.86664232 -0.12400121 -1.52793696 -1.46238043]\n",
            " [ 0.61303014 -0.82150798  0.83499716  0.8653585 ]\n",
            " [-0.21352735 -0.12400121  0.21613346 -0.03987331]\n",
            " [-0.56776627  0.80600783 -1.19037495 -1.3330616 ]\n",
            " [-0.21352735  3.13103043 -1.30289562 -1.07442394]\n",
            " [ 1.20342834  0.10850105  0.60995581  0.34808318]\n",
            " [-1.5124034   0.10850105 -1.30289562 -1.3330616 ]\n",
            " [ 0.02263193 -0.12400121  0.72247648  0.73603967]\n",
            " [-0.9220052  -1.2865125  -0.45899058 -0.16919214]\n",
            " [-1.5124034   0.80600783 -1.35915595 -1.20374277]\n",
            " [ 0.37687085 -1.98401928  0.38491447  0.34808318]\n",
            " [ 1.55766726  1.27101235  1.28507985  1.64127148]\n",
            " [-0.21352735 -0.35650346  0.21613346  0.08944552]\n",
            " [-1.27624412 -0.12400121 -1.35915595 -1.46238043]\n",
            " [ 1.43958762 -0.12400121  1.17255917  1.12399616]\n",
            " [ 1.20342834  0.34100331  1.0600385   1.38263382]\n",
            " [ 0.73110978 -0.12400121  1.11629884  1.25331499]\n",
            " [ 0.61303014 -0.58900572  1.00377816  1.12399616]\n",
            " [-0.9220052   1.73601687 -1.24663528 -1.3330616 ]\n",
            " [-1.27624412  0.80600783 -1.24663528 -1.3330616 ]\n",
            " [ 0.73110978  0.34100331  0.72247648  0.99467733]\n",
            " [ 0.96726906  0.57350557  1.0600385   1.12399616]\n",
            " [-1.63048304 -1.75151702 -1.41541629 -1.20374277]\n",
            " [ 0.37687085  0.80600783  0.89125749  1.38263382]\n",
            " [-1.15816448 -0.12400121 -1.35915595 -1.3330616 ]\n",
            " [-0.21352735 -1.2865125   0.66621615  0.99467733]\n",
            " [ 1.20342834  0.10850105  0.89125749  1.12399616]\n",
            " [-1.74856268  0.34100331 -1.41541629 -1.3330616 ]\n",
            " [-1.04008484  1.27101235 -1.35915595 -1.3330616 ]\n",
            " [ 1.55766726 -0.12400121  1.11629884  0.47740201]\n",
            " [-0.9220052   1.03851009 -1.35915595 -1.20374277]\n",
            " [-1.74856268 -0.12400121 -1.41541629 -1.3330616 ]\n",
            " [-0.56776627  1.96851913 -1.19037495 -1.07442394]\n",
            " [-0.44968663 -1.75151702  0.10361279  0.08944552]\n",
            " [ 1.0853487   0.34100331  1.17255917  1.38263382]\n",
            " [ 2.02998583 -0.12400121  1.56638153  1.12399616]\n",
            " [-0.9220052   1.03851009 -1.35915595 -1.3330616 ]\n",
            " [-1.15816448  0.10850105 -1.30289562 -1.46238043]\n",
            " [-0.80392556  0.80600783 -1.35915595 -1.3330616 ]\n",
            " [-0.21352735 -0.58900572  0.38491447  0.08944552]\n",
            " [ 0.84918942 -0.12400121  0.32865413  0.21876435]\n",
            " [-1.04008484  0.34100331 -1.47167663 -1.3330616 ]\n",
            " [-0.9220052   0.57350557 -1.19037495 -0.94510511]\n",
            " [ 0.61303014 -0.35650346  0.27239379  0.08944552]\n",
            " [-0.56776627  0.80600783 -1.30289562 -1.07442394]\n",
            " [ 2.14806547 -1.05401024  1.73516253  1.38263382]\n",
            " [-1.15816448 -1.51901476 -0.29020957 -0.29851096]\n",
            " [ 2.38422475  1.73601687  1.45386085  0.99467733]\n",
            " [ 0.96726906  0.10850105  0.32865413  0.21876435]\n",
            " [-0.80392556  2.43352365 -1.30289562 -1.46238043]\n",
            " [ 0.14071157 -0.12400121  0.55369548  0.73603967]\n",
            " [-0.09544771  2.20102139 -1.47167663 -1.3330616 ]\n",
            " [ 2.14806547 -0.58900572  1.62264186  0.99467733]\n",
            " [-0.9220052   1.73601687 -1.30289562 -1.20374277]\n",
            " [-1.39432376  0.34100331 -1.24663528 -1.3330616 ]\n",
            " [ 1.79382654 -0.58900572  1.28507985  0.8653585 ]\n",
            " [-1.04008484  0.57350557 -1.35915595 -1.3330616 ]\n",
            " [ 0.49495049  0.80600783  1.00377816  1.51195265]\n",
            " [-0.21352735 -0.58900572  0.15987312  0.08944552]\n",
            " [-0.09544771 -0.82150798  0.04735245 -0.03987331]\n",
            " [-0.21352735 -1.05401024 -0.1776889  -0.29851096]\n",
            " [ 0.61303014  0.34100331  0.83499716  1.38263382]\n",
            " [ 0.96726906 -0.12400121  0.77873682  1.38263382]\n",
            " [ 0.49495049 -1.2865125   0.60995581  0.34808318]\n",
            " [ 0.96726906 -0.12400121  0.66621615  0.60672084]\n",
            " [-1.04008484 -0.12400121 -1.24663528 -1.3330616 ]\n",
            " [-0.44968663 -1.51901476 -0.06516822 -0.29851096]\n",
            " [ 0.96726906  0.10850105  1.00377816  1.51195265]\n",
            " [-0.09544771 -0.82150798  0.72247648  0.8653585 ]\n",
            " [-0.9220052   0.80600783 -1.30289562 -1.3330616 ]\n",
            " [ 0.84918942 -0.35650346  0.4411748   0.08944552]\n",
            " [-0.33160699 -0.12400121  0.15987312  0.08944552]\n",
            " [ 0.02263193  0.34100331  0.55369548  0.73603967]\n",
            " [ 0.49495049 -1.75151702  0.32865413  0.08944552]\n",
            " [-0.44968663  1.03851009 -1.41541629 -1.3330616 ]\n",
            " [-0.9220052   1.50351461 -1.30289562 -1.07442394]\n",
            " [-1.15816448  0.10850105 -1.30289562 -1.46238043]\n",
            " [ 0.49495049 -0.35650346  1.00377816  0.73603967]\n",
            " [-0.09544771 -0.82150798  0.15987312 -0.29851096]\n",
            " [ 2.14806547  1.73601687  1.62264186  1.25331499]\n",
            " [-1.5124034   0.34100331 -1.35915595 -1.3330616 ]]\n"
          ],
          "name": "stdout"
        }
      ]
    },
    {
      "cell_type": "code",
      "metadata": {
        "colab": {
          "base_uri": "https://localhost:8080/"
        },
        "id": "AMWdmV9K19KI",
        "outputId": "060b5cb7-fd0f-42c3-f961-44ccc78cf684"
      },
      "source": [
        "print(x_test)"
      ],
      "execution_count": 21,
      "outputs": [
        {
          "output_type": "stream",
          "text": [
            "[[ 0.14956537 -0.58304897  0.94512598  1.91948971]\n",
            " [ 0.43000045 -1.9460206   0.2829358  -0.10102577]\n",
            " [-0.27108724  2.59721815 -1.28224097 -1.25560605]\n",
            " [ 2.25282843 -0.35588703  1.66751526  1.0535545 ]\n",
            " [-0.97217492  0.77992265 -1.22204187 -1.25560605]\n",
            " [ 0.85065306  0.55276071  1.48691794  2.06381224]\n",
            " [-0.97217492  1.00708459 -1.34244008 -1.11128352]\n",
            " [ 1.41152321  0.09843684  0.70432955  0.6205869 ]\n",
            " [ 1.55174074 -0.58304897  0.76452866  0.47626436]\n",
            " [ 0.57021798 -0.58304897  0.2829358   0.33194183]\n",
            " [ 0.57021798 -1.03737285  1.24612151  0.47626436]\n",
            " [ 0.9908706   0.32559878  0.58393134  0.6205869 ]\n",
            " [ 0.57021798 -0.58304897  0.70432955  0.18761929]\n",
            " [ 1.13108813 -0.58304897  0.64413044  0.6205869 ]\n",
            " [ 0.57021798 -0.35588703  0.70432955  0.47626436]\n",
            " [-1.11239246  0.09843684 -1.22204187 -1.39992858]\n",
            " [ 0.43000045 -0.35588703  0.58393134  0.6205869 ]\n",
            " [-0.27108724 -1.03737285  0.52373223  0.18761929]\n",
            " [-1.25261    -0.1287251  -1.28224097 -1.11128352]\n",
            " [-0.41130478  1.91573234 -1.34244008 -0.96696098]\n",
            " [-0.1308697  -0.58304897  0.82472776  1.34219957]\n",
            " [-0.1308697  -0.1287251   0.58393134  0.6205869 ]\n",
            " [-1.25261     0.77992265 -0.98124544 -1.25560605]\n",
            " [-1.81348015 -0.35588703 -1.28224097 -1.25560605]\n",
            " [ 0.71043552 -0.58304897  0.76452866  1.0535545 ]\n",
            " [-1.53304507  1.23424653 -1.5230374  -1.25560605]\n",
            " [-0.83195739  1.6885704  -0.98124544 -0.96696098]\n",
            " [ 0.71043552 -0.35588703  0.46353312  0.33194183]\n",
            " [-0.97217492 -1.71885866 -0.13845795 -0.10102577]\n",
            " [-0.97217492  0.77992265 -1.16184276 -0.96696098]]\n"
          ],
          "name": "stdout"
        }
      ]
    },
    {
      "cell_type": "markdown",
      "metadata": {
        "id": "YBULbkytyOQB"
      },
      "source": [
        "#Training KNN model on Training Set"
      ]
    },
    {
      "cell_type": "code",
      "metadata": {
        "colab": {
          "base_uri": "https://localhost:8080/"
        },
        "id": "uBbxtLFM2DJv",
        "outputId": "481fb80c-8af1-4d27-efbc-a1d7b30ef53f"
      },
      "source": [
        "from sklearn.neighbors import KNeighborsClassifier\n",
        "classifier = KNeighborsClassifier(n_neighbors = 5, metric = 'minkowski', p = 2)\n",
        "classifier.fit(x_train, y_train)"
      ],
      "execution_count": 22,
      "outputs": [
        {
          "output_type": "execute_result",
          "data": {
            "text/plain": [
              "KNeighborsClassifier(algorithm='auto', leaf_size=30, metric='minkowski',\n",
              "                     metric_params=None, n_jobs=None, n_neighbors=5, p=2,\n",
              "                     weights='uniform')"
            ]
          },
          "metadata": {
            "tags": []
          },
          "execution_count": 22
        }
      ]
    },
    {
      "cell_type": "markdown",
      "metadata": {
        "id": "WZ37fPXZyms-"
      },
      "source": [
        "#Predicting New Results"
      ]
    },
    {
      "cell_type": "code",
      "metadata": {
        "colab": {
          "base_uri": "https://localhost:8080/"
        },
        "id": "dMoIdITn3z3-",
        "outputId": "c949af47-bba6-48b1-a5b4-327c70997664"
      },
      "source": [
        "print(classifier.predict(sc.transform([[6.7, 3.1, 5.2, 3.7]])))"
      ],
      "execution_count": 23,
      "outputs": [
        {
          "output_type": "stream",
          "text": [
            "['Iris-virginica']\n"
          ],
          "name": "stdout"
        }
      ]
    },
    {
      "cell_type": "markdown",
      "metadata": {
        "id": "1jYaWuUFywNH"
      },
      "source": [
        "#Predicting Test Set Results"
      ]
    },
    {
      "cell_type": "code",
      "metadata": {
        "colab": {
          "base_uri": "https://localhost:8080/"
        },
        "id": "WeLk4pQz4J93",
        "outputId": "ade2e79e-2fc9-418e-ceb2-ec9bc6590858"
      },
      "source": [
        "y_pred = classifier.predict(x_test)\n",
        "print(np.concatenate((y_pred.reshape(len(y_pred), 1), y_test.reshape(len(y_test), 1)), 1))"
      ],
      "execution_count": 24,
      "outputs": [
        {
          "output_type": "stream",
          "text": [
            "[['Iris-virginica' 'Iris-virginica']\n",
            " ['Iris-versicolor' 'Iris-versicolor']\n",
            " ['Iris-setosa' 'Iris-setosa']\n",
            " ['Iris-virginica' 'Iris-virginica']\n",
            " ['Iris-setosa' 'Iris-setosa']\n",
            " ['Iris-virginica' 'Iris-virginica']\n",
            " ['Iris-setosa' 'Iris-setosa']\n",
            " ['Iris-versicolor' 'Iris-versicolor']\n",
            " ['Iris-versicolor' 'Iris-versicolor']\n",
            " ['Iris-versicolor' 'Iris-versicolor']\n",
            " ['Iris-virginica' 'Iris-virginica']\n",
            " ['Iris-versicolor' 'Iris-versicolor']\n",
            " ['Iris-versicolor' 'Iris-versicolor']\n",
            " ['Iris-virginica' 'Iris-versicolor']\n",
            " ['Iris-virginica' 'Iris-versicolor']\n",
            " ['Iris-setosa' 'Iris-setosa']\n",
            " ['Iris-virginica' 'Iris-versicolor']\n",
            " ['Iris-versicolor' 'Iris-versicolor']\n",
            " ['Iris-setosa' 'Iris-setosa']\n",
            " ['Iris-setosa' 'Iris-setosa']\n",
            " ['Iris-virginica' 'Iris-virginica']\n",
            " ['Iris-virginica' 'Iris-versicolor']\n",
            " ['Iris-setosa' 'Iris-setosa']\n",
            " ['Iris-setosa' 'Iris-setosa']\n",
            " ['Iris-virginica' 'Iris-virginica']\n",
            " ['Iris-setosa' 'Iris-setosa']\n",
            " ['Iris-setosa' 'Iris-setosa']\n",
            " ['Iris-versicolor' 'Iris-versicolor']\n",
            " ['Iris-versicolor' 'Iris-versicolor']\n",
            " ['Iris-setosa' 'Iris-setosa']]\n"
          ],
          "name": "stdout"
        }
      ]
    },
    {
      "cell_type": "markdown",
      "metadata": {
        "id": "vLDomC81y024"
      },
      "source": [
        "#Confusion Matrix and Accuracy Rate"
      ]
    },
    {
      "cell_type": "code",
      "metadata": {
        "colab": {
          "base_uri": "https://localhost:8080/"
        },
        "id": "0bYLI0Ee5dSc",
        "outputId": "5b437c41-8ed4-47fa-8657-56151a233c79"
      },
      "source": [
        "from sklearn.metrics import confusion_matrix, accuracy_score\n",
        "cm = confusion_matrix(y_test, y_pred)\n",
        "print(cm)\n",
        "print('Accuracy = ', accuracy_score(y_test, y_pred) * 100)"
      ],
      "execution_count": 25,
      "outputs": [
        {
          "output_type": "stream",
          "text": [
            "[[11  0  0]\n",
            " [ 0  9  4]\n",
            " [ 0  0  6]]\n",
            "Accuracy =  86.66666666666667\n"
          ],
          "name": "stdout"
        }
      ]
    }
  ]
}